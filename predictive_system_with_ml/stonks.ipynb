{
 "cells": [
  {
   "cell_type": "code",
   "execution_count": 1,
   "metadata": {},
   "outputs": [],
   "source": [
    "import time\n",
    "import datetime\n",
    "import pandas as pd"
   ]
  },
  {
   "cell_type": "code",
   "execution_count": 4,
   "metadata": {},
   "outputs": [],
   "source": [
    "ticker = 'AMZN'\n",
    "period1 = int(time.mktime(datetime.datetime(2022, 12, 1, 23, 59).timetuple()))\n",
    "period2 = int(time.mktime(datetime.datetime.now().timetuple()))\n",
    "interval = '1d'\n",
    "\n",
    "query_string = f'https://query1.finance.yahoo.com/v7/finance/download/{ticker}?period1={period1}&period2={period2}&interval={interval}&events=history&includeAdjustedClose=true'\n",
    "\n",
    "df = pd.read_csv(query_string)"
   ]
  },
  {
   "cell_type": "code",
   "execution_count": 5,
   "metadata": {},
   "outputs": [
    {
     "data": {
      "text/plain": [
       "'https://query1.finance.yahoo.com/v7/finance/download/AMZN?period1=1669919340&period2=1703532774&interval=1d&events=history&includeAdjustedClose=true'"
      ]
     },
     "execution_count": 5,
     "metadata": {},
     "output_type": "execute_result"
    }
   ],
   "source": [
    "query_string"
   ]
  },
  {
   "cell_type": "code",
   "execution_count": 6,
   "metadata": {},
   "outputs": [
    {
     "data": {
      "text/plain": [
       "time.struct_time(tm_year=2023, tm_mon=12, tm_mday=26, tm_hour=1, tm_min=3, tm_sec=5, tm_wday=1, tm_yday=360, tm_isdst=-1)"
      ]
     },
     "execution_count": 6,
     "metadata": {},
     "output_type": "execute_result"
    }
   ],
   "source": [
    "datetime.datetime.now().timetuple()"
   ]
  },
  {
   "cell_type": "code",
   "execution_count": 7,
   "metadata": {},
   "outputs": [],
   "source": [
    "date = df"
   ]
  },
  {
   "cell_type": "code",
   "execution_count": 8,
   "metadata": {},
   "outputs": [
    {
     "data": {
      "text/html": [
       "<div>\n",
       "<style scoped>\n",
       "    .dataframe tbody tr th:only-of-type {\n",
       "        vertical-align: middle;\n",
       "    }\n",
       "\n",
       "    .dataframe tbody tr th {\n",
       "        vertical-align: top;\n",
       "    }\n",
       "\n",
       "    .dataframe thead th {\n",
       "        text-align: right;\n",
       "    }\n",
       "</style>\n",
       "<table border=\"1\" class=\"dataframe\">\n",
       "  <thead>\n",
       "    <tr style=\"text-align: right;\">\n",
       "      <th></th>\n",
       "      <th>Date</th>\n",
       "      <th>Open</th>\n",
       "      <th>High</th>\n",
       "      <th>Low</th>\n",
       "      <th>Close</th>\n",
       "      <th>Adj Close</th>\n",
       "      <th>Volume</th>\n",
       "    </tr>\n",
       "  </thead>\n",
       "  <tbody>\n",
       "    <tr>\n",
       "      <th>0</th>\n",
       "      <td>2022-12-01</td>\n",
       "      <td>96.989998</td>\n",
       "      <td>97.230003</td>\n",
       "      <td>94.919998</td>\n",
       "      <td>95.500000</td>\n",
       "      <td>95.500000</td>\n",
       "      <td>68488000</td>\n",
       "    </tr>\n",
       "    <tr>\n",
       "      <th>1</th>\n",
       "      <td>2022-12-02</td>\n",
       "      <td>94.480003</td>\n",
       "      <td>95.360001</td>\n",
       "      <td>93.779999</td>\n",
       "      <td>94.129997</td>\n",
       "      <td>94.129997</td>\n",
       "      <td>72496400</td>\n",
       "    </tr>\n",
       "    <tr>\n",
       "      <th>2</th>\n",
       "      <td>2022-12-05</td>\n",
       "      <td>93.050003</td>\n",
       "      <td>94.059998</td>\n",
       "      <td>90.820000</td>\n",
       "      <td>91.010002</td>\n",
       "      <td>91.010002</td>\n",
       "      <td>71535500</td>\n",
       "    </tr>\n",
       "    <tr>\n",
       "      <th>3</th>\n",
       "      <td>2022-12-06</td>\n",
       "      <td>90.500000</td>\n",
       "      <td>91.040001</td>\n",
       "      <td>87.900002</td>\n",
       "      <td>88.250000</td>\n",
       "      <td>88.250000</td>\n",
       "      <td>75503600</td>\n",
       "    </tr>\n",
       "    <tr>\n",
       "      <th>4</th>\n",
       "      <td>2022-12-07</td>\n",
       "      <td>88.339996</td>\n",
       "      <td>89.889999</td>\n",
       "      <td>87.480003</td>\n",
       "      <td>88.459999</td>\n",
       "      <td>88.459999</td>\n",
       "      <td>68086900</td>\n",
       "    </tr>\n",
       "    <tr>\n",
       "      <th>...</th>\n",
       "      <td>...</td>\n",
       "      <td>...</td>\n",
       "      <td>...</td>\n",
       "      <td>...</td>\n",
       "      <td>...</td>\n",
       "      <td>...</td>\n",
       "      <td>...</td>\n",
       "    </tr>\n",
       "    <tr>\n",
       "      <th>262</th>\n",
       "      <td>2023-12-18</td>\n",
       "      <td>150.559998</td>\n",
       "      <td>154.850006</td>\n",
       "      <td>150.050003</td>\n",
       "      <td>154.070007</td>\n",
       "      <td>154.070007</td>\n",
       "      <td>62512800</td>\n",
       "    </tr>\n",
       "    <tr>\n",
       "      <th>263</th>\n",
       "      <td>2023-12-19</td>\n",
       "      <td>154.399994</td>\n",
       "      <td>155.119995</td>\n",
       "      <td>152.690002</td>\n",
       "      <td>153.789993</td>\n",
       "      <td>153.789993</td>\n",
       "      <td>43171300</td>\n",
       "    </tr>\n",
       "    <tr>\n",
       "      <th>264</th>\n",
       "      <td>2023-12-20</td>\n",
       "      <td>152.899994</td>\n",
       "      <td>155.630005</td>\n",
       "      <td>151.559998</td>\n",
       "      <td>152.119995</td>\n",
       "      <td>152.119995</td>\n",
       "      <td>50322100</td>\n",
       "    </tr>\n",
       "    <tr>\n",
       "      <th>265</th>\n",
       "      <td>2023-12-21</td>\n",
       "      <td>153.300003</td>\n",
       "      <td>153.970001</td>\n",
       "      <td>152.100006</td>\n",
       "      <td>153.839996</td>\n",
       "      <td>153.839996</td>\n",
       "      <td>36305700</td>\n",
       "    </tr>\n",
       "    <tr>\n",
       "      <th>266</th>\n",
       "      <td>2023-12-22</td>\n",
       "      <td>153.770004</td>\n",
       "      <td>154.350006</td>\n",
       "      <td>152.710007</td>\n",
       "      <td>153.419998</td>\n",
       "      <td>153.419998</td>\n",
       "      <td>29480100</td>\n",
       "    </tr>\n",
       "  </tbody>\n",
       "</table>\n",
       "<p>267 rows × 7 columns</p>\n",
       "</div>"
      ],
      "text/plain": [
       "           Date        Open        High  ...       Close   Adj Close    Volume\n",
       "0    2022-12-01   96.989998   97.230003  ...   95.500000   95.500000  68488000\n",
       "1    2022-12-02   94.480003   95.360001  ...   94.129997   94.129997  72496400\n",
       "2    2022-12-05   93.050003   94.059998  ...   91.010002   91.010002  71535500\n",
       "3    2022-12-06   90.500000   91.040001  ...   88.250000   88.250000  75503600\n",
       "4    2022-12-07   88.339996   89.889999  ...   88.459999   88.459999  68086900\n",
       "..          ...         ...         ...  ...         ...         ...       ...\n",
       "262  2023-12-18  150.559998  154.850006  ...  154.070007  154.070007  62512800\n",
       "263  2023-12-19  154.399994  155.119995  ...  153.789993  153.789993  43171300\n",
       "264  2023-12-20  152.899994  155.630005  ...  152.119995  152.119995  50322100\n",
       "265  2023-12-21  153.300003  153.970001  ...  153.839996  153.839996  36305700\n",
       "266  2023-12-22  153.770004  154.350006  ...  153.419998  153.419998  29480100\n",
       "\n",
       "[267 rows x 7 columns]"
      ]
     },
     "execution_count": 8,
     "metadata": {},
     "output_type": "execute_result"
    }
   ],
   "source": [
    "date"
   ]
  },
  {
   "cell_type": "code",
   "execution_count": 9,
   "metadata": {},
   "outputs": [
    {
     "data": {
      "text/html": [
       "<div>\n",
       "<style scoped>\n",
       "    .dataframe tbody tr th:only-of-type {\n",
       "        vertical-align: middle;\n",
       "    }\n",
       "\n",
       "    .dataframe tbody tr th {\n",
       "        vertical-align: top;\n",
       "    }\n",
       "\n",
       "    .dataframe thead th {\n",
       "        text-align: right;\n",
       "    }\n",
       "</style>\n",
       "<table border=\"1\" class=\"dataframe\">\n",
       "  <thead>\n",
       "    <tr style=\"text-align: right;\">\n",
       "      <th></th>\n",
       "      <th>Date</th>\n",
       "      <th>Open</th>\n",
       "      <th>High</th>\n",
       "      <th>Low</th>\n",
       "      <th>Close</th>\n",
       "      <th>Adj Close</th>\n",
       "      <th>Volume</th>\n",
       "    </tr>\n",
       "  </thead>\n",
       "  <tbody>\n",
       "    <tr>\n",
       "      <th>0</th>\n",
       "      <td>2022-12-01</td>\n",
       "      <td>96.989998</td>\n",
       "      <td>97.230003</td>\n",
       "      <td>94.919998</td>\n",
       "      <td>95.500000</td>\n",
       "      <td>95.500000</td>\n",
       "      <td>68488000</td>\n",
       "    </tr>\n",
       "    <tr>\n",
       "      <th>1</th>\n",
       "      <td>2022-12-02</td>\n",
       "      <td>94.480003</td>\n",
       "      <td>95.360001</td>\n",
       "      <td>93.779999</td>\n",
       "      <td>94.129997</td>\n",
       "      <td>94.129997</td>\n",
       "      <td>72496400</td>\n",
       "    </tr>\n",
       "    <tr>\n",
       "      <th>2</th>\n",
       "      <td>2022-12-05</td>\n",
       "      <td>93.050003</td>\n",
       "      <td>94.059998</td>\n",
       "      <td>90.820000</td>\n",
       "      <td>91.010002</td>\n",
       "      <td>91.010002</td>\n",
       "      <td>71535500</td>\n",
       "    </tr>\n",
       "    <tr>\n",
       "      <th>3</th>\n",
       "      <td>2022-12-06</td>\n",
       "      <td>90.500000</td>\n",
       "      <td>91.040001</td>\n",
       "      <td>87.900002</td>\n",
       "      <td>88.250000</td>\n",
       "      <td>88.250000</td>\n",
       "      <td>75503600</td>\n",
       "    </tr>\n",
       "    <tr>\n",
       "      <th>4</th>\n",
       "      <td>2022-12-07</td>\n",
       "      <td>88.339996</td>\n",
       "      <td>89.889999</td>\n",
       "      <td>87.480003</td>\n",
       "      <td>88.459999</td>\n",
       "      <td>88.459999</td>\n",
       "      <td>68086900</td>\n",
       "    </tr>\n",
       "    <tr>\n",
       "      <th>...</th>\n",
       "      <td>...</td>\n",
       "      <td>...</td>\n",
       "      <td>...</td>\n",
       "      <td>...</td>\n",
       "      <td>...</td>\n",
       "      <td>...</td>\n",
       "      <td>...</td>\n",
       "    </tr>\n",
       "    <tr>\n",
       "      <th>262</th>\n",
       "      <td>2023-12-18</td>\n",
       "      <td>150.559998</td>\n",
       "      <td>154.850006</td>\n",
       "      <td>150.050003</td>\n",
       "      <td>154.070007</td>\n",
       "      <td>154.070007</td>\n",
       "      <td>62512800</td>\n",
       "    </tr>\n",
       "    <tr>\n",
       "      <th>263</th>\n",
       "      <td>2023-12-19</td>\n",
       "      <td>154.399994</td>\n",
       "      <td>155.119995</td>\n",
       "      <td>152.690002</td>\n",
       "      <td>153.789993</td>\n",
       "      <td>153.789993</td>\n",
       "      <td>43171300</td>\n",
       "    </tr>\n",
       "    <tr>\n",
       "      <th>264</th>\n",
       "      <td>2023-12-20</td>\n",
       "      <td>152.899994</td>\n",
       "      <td>155.630005</td>\n",
       "      <td>151.559998</td>\n",
       "      <td>152.119995</td>\n",
       "      <td>152.119995</td>\n",
       "      <td>50322100</td>\n",
       "    </tr>\n",
       "    <tr>\n",
       "      <th>265</th>\n",
       "      <td>2023-12-21</td>\n",
       "      <td>153.300003</td>\n",
       "      <td>153.970001</td>\n",
       "      <td>152.100006</td>\n",
       "      <td>153.839996</td>\n",
       "      <td>153.839996</td>\n",
       "      <td>36305700</td>\n",
       "    </tr>\n",
       "    <tr>\n",
       "      <th>266</th>\n",
       "      <td>2023-12-22</td>\n",
       "      <td>153.770004</td>\n",
       "      <td>154.350006</td>\n",
       "      <td>152.710007</td>\n",
       "      <td>153.419998</td>\n",
       "      <td>153.419998</td>\n",
       "      <td>29480100</td>\n",
       "    </tr>\n",
       "  </tbody>\n",
       "</table>\n",
       "<p>267 rows × 7 columns</p>\n",
       "</div>"
      ],
      "text/plain": [
       "           Date        Open        High  ...       Close   Adj Close    Volume\n",
       "0    2022-12-01   96.989998   97.230003  ...   95.500000   95.500000  68488000\n",
       "1    2022-12-02   94.480003   95.360001  ...   94.129997   94.129997  72496400\n",
       "2    2022-12-05   93.050003   94.059998  ...   91.010002   91.010002  71535500\n",
       "3    2022-12-06   90.500000   91.040001  ...   88.250000   88.250000  75503600\n",
       "4    2022-12-07   88.339996   89.889999  ...   88.459999   88.459999  68086900\n",
       "..          ...         ...         ...  ...         ...         ...       ...\n",
       "262  2023-12-18  150.559998  154.850006  ...  154.070007  154.070007  62512800\n",
       "263  2023-12-19  154.399994  155.119995  ...  153.789993  153.789993  43171300\n",
       "264  2023-12-20  152.899994  155.630005  ...  152.119995  152.119995  50322100\n",
       "265  2023-12-21  153.300003  153.970001  ...  153.839996  153.839996  36305700\n",
       "266  2023-12-22  153.770004  154.350006  ...  153.419998  153.419998  29480100\n",
       "\n",
       "[267 rows x 7 columns]"
      ]
     },
     "execution_count": 9,
     "metadata": {},
     "output_type": "execute_result"
    }
   ],
   "source": [
    "df"
   ]
  },
  {
   "cell_type": "code",
   "execution_count": 10,
   "metadata": {},
   "outputs": [],
   "source": [
    "import matplotlib.pyplot as plt"
   ]
  },
  {
   "cell_type": "code",
   "execution_count": 11,
   "metadata": {},
   "outputs": [
    {
     "data": {
      "text/plain": [
       "[<matplotlib.lines.Line2D at 0x230ae0d47d0>]"
      ]
     },
     "execution_count": 11,
     "metadata": {},
     "output_type": "execute_result"
    },
    {
     "data": {
      "image/png": "[encoded data removed]",
      "text/plain": [
       "<Figure size 640x480 with 1 Axes>"
      ]
     },
     "metadata": {},
     "output_type": "display_data"
    }
   ],
   "source": [
    "plt.plot(df['Close'])"
   ]
  },
  {
   "cell_type": "code",
   "execution_count": 12,
   "metadata": {},
   "outputs": [],
   "source": [
    "df = df[['Date', 'Close']]"
   ]
  },
  {
   "cell_type": "code",
   "execution_count": 13,
   "metadata": {},
   "outputs": [
    {
     "data": {
      "text/html": [
       "<div>\n",
       "<style scoped>\n",
       "    .dataframe tbody tr th:only-of-type {\n",
       "        vertical-align: middle;\n",
       "    }\n",
       "\n",
       "    .dataframe tbody tr th {\n",
       "        vertical-align: top;\n",
       "    }\n",
       "\n",
       "    .dataframe thead th {\n",
       "        text-align: right;\n",
       "    }\n",
       "</style>\n",
       "<table border=\"1\" class=\"dataframe\">\n",
       "  <thead>\n",
       "    <tr style=\"text-align: right;\">\n",
       "      <th></th>\n",
       "      <th>Date</th>\n",
       "      <th>Close</th>\n",
       "    </tr>\n",
       "  </thead>\n",
       "  <tbody>\n",
       "    <tr>\n",
       "      <th>0</th>\n",
       "      <td>2022-12-01</td>\n",
       "      <td>95.500000</td>\n",
       "    </tr>\n",
       "    <tr>\n",
       "      <th>1</th>\n",
       "      <td>2022-12-02</td>\n",
       "      <td>94.129997</td>\n",
       "    </tr>\n",
       "    <tr>\n",
       "      <th>2</th>\n",
       "      <td>2022-12-05</td>\n",
       "      <td>91.010002</td>\n",
       "    </tr>\n",
       "    <tr>\n",
       "      <th>3</th>\n",
       "      <td>2022-12-06</td>\n",
       "      <td>88.250000</td>\n",
       "    </tr>\n",
       "    <tr>\n",
       "      <th>4</th>\n",
       "      <td>2022-12-07</td>\n",
       "      <td>88.459999</td>\n",
       "    </tr>\n",
       "    <tr>\n",
       "      <th>...</th>\n",
       "      <td>...</td>\n",
       "      <td>...</td>\n",
       "    </tr>\n",
       "    <tr>\n",
       "      <th>262</th>\n",
       "      <td>2023-12-18</td>\n",
       "      <td>154.070007</td>\n",
       "    </tr>\n",
       "    <tr>\n",
       "      <th>263</th>\n",
       "      <td>2023-12-19</td>\n",
       "      <td>153.789993</td>\n",
       "    </tr>\n",
       "    <tr>\n",
       "      <th>264</th>\n",
       "      <td>2023-12-20</td>\n",
       "      <td>152.119995</td>\n",
       "    </tr>\n",
       "    <tr>\n",
       "      <th>265</th>\n",
       "      <td>2023-12-21</td>\n",
       "      <td>153.839996</td>\n",
       "    </tr>\n",
       "    <tr>\n",
       "      <th>266</th>\n",
       "      <td>2023-12-22</td>\n",
       "      <td>153.419998</td>\n",
       "    </tr>\n",
       "  </tbody>\n",
       "</table>\n",
       "<p>267 rows × 2 columns</p>\n",
       "</div>"
      ],
      "text/plain": [
       "           Date       Close\n",
       "0    2022-12-01   95.500000\n",
       "1    2022-12-02   94.129997\n",
       "2    2022-12-05   91.010002\n",
       "3    2022-12-06   88.250000\n",
       "4    2022-12-07   88.459999\n",
       "..          ...         ...\n",
       "262  2023-12-18  154.070007\n",
       "263  2023-12-19  153.789993\n",
       "264  2023-12-20  152.119995\n",
       "265  2023-12-21  153.839996\n",
       "266  2023-12-22  153.419998\n",
       "\n",
       "[267 rows x 2 columns]"
      ]
     },
     "execution_count": 13,
     "metadata": {},
     "output_type": "execute_result"
    }
   ],
   "source": [
    "df"
   ]
  },
  {
   "cell_type": "code",
   "execution_count": 14,
   "metadata": {},
   "outputs": [],
   "source": [
    "def str_to_datetime(s):\n",
    "  split = s.split('-')\n",
    "  year, month, day = int(split[0]), int(split[1]), int(split[2])\n",
    "  return datetime.datetime(year=year, month=month, day=day)\n"
   ]
  },
  {
   "cell_type": "code",
   "execution_count": 15,
   "metadata": {},
   "outputs": [
    {
     "name": "stderr",
     "output_type": "stream",
     "text": [
      "C:\\Users\\User\\AppData\\Local\\Temp\\ipykernel_26812\\2565755782.py:1: SettingWithCopyWarning: \n",
      "A value is trying to be set on a copy of a slice from a DataFrame.\n",
      "Try using .loc[row_indexer,col_indexer] = value instead\n",
      "\n",
      "See the caveats in the documentation: https://pandas.pydata.org/pandas-docs/stable/user_guide/indexing.html#returning-a-view-versus-a-copy\n",
      "  df['Date'] = df['Date'].apply(str_to_datetime)\n"
     ]
    },
    {
     "data": {
      "text/plain": [
       "0     2022-12-01\n",
       "1     2022-12-02\n",
       "2     2022-12-05\n",
       "3     2022-12-06\n",
       "4     2022-12-07\n",
       "         ...    \n",
       "262   2023-12-18\n",
       "263   2023-12-19\n",
       "264   2023-12-20\n",
       "265   2023-12-21\n",
       "266   2023-12-22\n",
       "Name: Date, Length: 267, dtype: datetime64[ns]"
      ]
     },
     "execution_count": 15,
     "metadata": {},
     "output_type": "execute_result"
    }
   ],
   "source": [
    "df['Date'] = df['Date'].apply(str_to_datetime)\n",
    "df['Date']"
   ]
  },
  {
   "cell_type": "code",
   "execution_count": 16,
   "metadata": {},
   "outputs": [
    {
     "data": {
      "text/html": [
       "<div>\n",
       "<style scoped>\n",
       "    .dataframe tbody tr th:only-of-type {\n",
       "        vertical-align: middle;\n",
       "    }\n",
       "\n",
       "    .dataframe tbody tr th {\n",
       "        vertical-align: top;\n",
       "    }\n",
       "\n",
       "    .dataframe thead th {\n",
       "        text-align: right;\n",
       "    }\n",
       "</style>\n",
       "<table border=\"1\" class=\"dataframe\">\n",
       "  <thead>\n",
       "    <tr style=\"text-align: right;\">\n",
       "      <th></th>\n",
       "      <th>Close</th>\n",
       "    </tr>\n",
       "    <tr>\n",
       "      <th>Date</th>\n",
       "      <th></th>\n",
       "    </tr>\n",
       "  </thead>\n",
       "  <tbody>\n",
       "    <tr>\n",
       "      <th>2022-12-01</th>\n",
       "      <td>95.500000</td>\n",
       "    </tr>\n",
       "    <tr>\n",
       "      <th>2022-12-02</th>\n",
       "      <td>94.129997</td>\n",
       "    </tr>\n",
       "    <tr>\n",
       "      <th>2022-12-05</th>\n",
       "      <td>91.010002</td>\n",
       "    </tr>\n",
       "    <tr>\n",
       "      <th>2022-12-06</th>\n",
       "      <td>88.250000</td>\n",
       "    </tr>\n",
       "    <tr>\n",
       "      <th>2022-12-07</th>\n",
       "      <td>88.459999</td>\n",
       "    </tr>\n",
       "    <tr>\n",
       "      <th>...</th>\n",
       "      <td>...</td>\n",
       "    </tr>\n",
       "    <tr>\n",
       "      <th>2023-12-18</th>\n",
       "      <td>154.070007</td>\n",
       "    </tr>\n",
       "    <tr>\n",
       "      <th>2023-12-19</th>\n",
       "      <td>153.789993</td>\n",
       "    </tr>\n",
       "    <tr>\n",
       "      <th>2023-12-20</th>\n",
       "      <td>152.119995</td>\n",
       "    </tr>\n",
       "    <tr>\n",
       "      <th>2023-12-21</th>\n",
       "      <td>153.839996</td>\n",
       "    </tr>\n",
       "    <tr>\n",
       "      <th>2023-12-22</th>\n",
       "      <td>153.419998</td>\n",
       "    </tr>\n",
       "  </tbody>\n",
       "</table>\n",
       "<p>267 rows × 1 columns</p>\n",
       "</div>"
      ],
      "text/plain": [
       "                 Close\n",
       "Date                  \n",
       "2022-12-01   95.500000\n",
       "2022-12-02   94.129997\n",
       "2022-12-05   91.010002\n",
       "2022-12-06   88.250000\n",
       "2022-12-07   88.459999\n",
       "...                ...\n",
       "2023-12-18  154.070007\n",
       "2023-12-19  153.789993\n",
       "2023-12-20  152.119995\n",
       "2023-12-21  153.839996\n",
       "2023-12-22  153.419998\n",
       "\n",
       "[267 rows x 1 columns]"
      ]
     },
     "execution_count": 16,
     "metadata": {},
     "output_type": "execute_result"
    }
   ],
   "source": [
    "df.index = df.pop('Date')\n",
    "df"
   ]
  },
  {
   "cell_type": "code",
   "execution_count": 17,
   "metadata": {},
   "outputs": [],
   "source": [
    "dt = date['Date'].iloc[3]"
   ]
  },
  {
   "cell_type": "code",
   "execution_count": 18,
   "metadata": {},
   "outputs": [
    {
     "data": {
      "text/plain": [
       "'2022-12-06'"
      ]
     },
     "execution_count": 18,
     "metadata": {},
     "output_type": "execute_result"
    }
   ],
   "source": [
    "dt"
   ]
  },
  {
   "cell_type": "code",
   "execution_count": 23,
   "metadata": {},
   "outputs": [],
   "source": [
    "curr = str(datetime.datetime.now()-datetime.timedelta(days=4))"
   ]
  },
  {
   "cell_type": "code",
   "execution_count": 24,
   "metadata": {},
   "outputs": [
    {
     "data": {
      "text/plain": [
       "'2023-12-22 01:04:32.813405'"
      ]
     },
     "execution_count": 24,
     "metadata": {},
     "output_type": "execute_result"
    }
   ],
   "source": [
    "curr"
   ]
  },
  {
   "cell_type": "code",
   "execution_count": 25,
   "metadata": {},
   "outputs": [],
   "source": [
    "curr = curr[0:10]"
   ]
  },
  {
   "cell_type": "code",
   "execution_count": 26,
   "metadata": {},
   "outputs": [
    {
     "data": {
      "text/html": [
       "<div>\n",
       "<style scoped>\n",
       "    .dataframe tbody tr th:only-of-type {\n",
       "        vertical-align: middle;\n",
       "    }\n",
       "\n",
       "    .dataframe tbody tr th {\n",
       "        vertical-align: top;\n",
       "    }\n",
       "\n",
       "    .dataframe thead th {\n",
       "        text-align: right;\n",
       "    }\n",
       "</style>\n",
       "<table border=\"1\" class=\"dataframe\">\n",
       "  <thead>\n",
       "    <tr style=\"text-align: right;\">\n",
       "      <th></th>\n",
       "      <th>Target Date</th>\n",
       "      <th>Target-3</th>\n",
       "      <th>Target-2</th>\n",
       "      <th>Target-1</th>\n",
       "      <th>Target</th>\n",
       "    </tr>\n",
       "  </thead>\n",
       "  <tbody>\n",
       "    <tr>\n",
       "      <th>0</th>\n",
       "      <td>2022-12-06</td>\n",
       "      <td>95.500000</td>\n",
       "      <td>94.129997</td>\n",
       "      <td>91.010002</td>\n",
       "      <td>88.250000</td>\n",
       "    </tr>\n",
       "    <tr>\n",
       "      <th>1</th>\n",
       "      <td>2022-12-07</td>\n",
       "      <td>94.129997</td>\n",
       "      <td>91.010002</td>\n",
       "      <td>88.250000</td>\n",
       "      <td>88.459999</td>\n",
       "    </tr>\n",
       "    <tr>\n",
       "      <th>2</th>\n",
       "      <td>2022-12-08</td>\n",
       "      <td>91.010002</td>\n",
       "      <td>88.250000</td>\n",
       "      <td>88.459999</td>\n",
       "      <td>90.349998</td>\n",
       "    </tr>\n",
       "    <tr>\n",
       "      <th>3</th>\n",
       "      <td>2022-12-09</td>\n",
       "      <td>88.250000</td>\n",
       "      <td>88.459999</td>\n",
       "      <td>90.349998</td>\n",
       "      <td>89.089996</td>\n",
       "    </tr>\n",
       "    <tr>\n",
       "      <th>4</th>\n",
       "      <td>2022-12-12</td>\n",
       "      <td>88.459999</td>\n",
       "      <td>90.349998</td>\n",
       "      <td>89.089996</td>\n",
       "      <td>90.550003</td>\n",
       "    </tr>\n",
       "    <tr>\n",
       "      <th>...</th>\n",
       "      <td>...</td>\n",
       "      <td>...</td>\n",
       "      <td>...</td>\n",
       "      <td>...</td>\n",
       "      <td>...</td>\n",
       "    </tr>\n",
       "    <tr>\n",
       "      <th>259</th>\n",
       "      <td>2023-12-18</td>\n",
       "      <td>148.839996</td>\n",
       "      <td>147.419998</td>\n",
       "      <td>149.970001</td>\n",
       "      <td>154.070007</td>\n",
       "    </tr>\n",
       "    <tr>\n",
       "      <th>260</th>\n",
       "      <td>2023-12-19</td>\n",
       "      <td>147.419998</td>\n",
       "      <td>149.970001</td>\n",
       "      <td>154.070007</td>\n",
       "      <td>153.789993</td>\n",
       "    </tr>\n",
       "    <tr>\n",
       "      <th>261</th>\n",
       "      <td>2023-12-20</td>\n",
       "      <td>149.970001</td>\n",
       "      <td>154.070007</td>\n",
       "      <td>153.789993</td>\n",
       "      <td>152.119995</td>\n",
       "    </tr>\n",
       "    <tr>\n",
       "      <th>262</th>\n",
       "      <td>2023-12-21</td>\n",
       "      <td>154.070007</td>\n",
       "      <td>153.789993</td>\n",
       "      <td>152.119995</td>\n",
       "      <td>153.839996</td>\n",
       "    </tr>\n",
       "    <tr>\n",
       "      <th>263</th>\n",
       "      <td>2023-12-22</td>\n",
       "      <td>153.789993</td>\n",
       "      <td>152.119995</td>\n",
       "      <td>153.839996</td>\n",
       "      <td>153.419998</td>\n",
       "    </tr>\n",
       "  </tbody>\n",
       "</table>\n",
       "<p>264 rows × 5 columns</p>\n",
       "</div>"
      ],
      "text/plain": [
       "    Target Date    Target-3    Target-2    Target-1      Target\n",
       "0    2022-12-06   95.500000   94.129997   91.010002   88.250000\n",
       "1    2022-12-07   94.129997   91.010002   88.250000   88.459999\n",
       "2    2022-12-08   91.010002   88.250000   88.459999   90.349998\n",
       "3    2022-12-09   88.250000   88.459999   90.349998   89.089996\n",
       "4    2022-12-12   88.459999   90.349998   89.089996   90.550003\n",
       "..          ...         ...         ...         ...         ...\n",
       "259  2023-12-18  148.839996  147.419998  149.970001  154.070007\n",
       "260  2023-12-19  147.419998  149.970001  154.070007  153.789993\n",
       "261  2023-12-20  149.970001  154.070007  153.789993  152.119995\n",
       "262  2023-12-21  154.070007  153.789993  152.119995  153.839996\n",
       "263  2023-12-22  153.789993  152.119995  153.839996  153.419998\n",
       "\n",
       "[264 rows x 5 columns]"
      ]
     },
     "execution_count": 26,
     "metadata": {},
     "output_type": "execute_result"
    }
   ],
   "source": [
    "import numpy as np\n",
    "\n",
    "def df_to_windowed_df(dataframe, first_date_str, last_date_str, n=3):\n",
    "  first_date = str_to_datetime(first_date_str)\n",
    "  last_date  = str_to_datetime(last_date_str)\n",
    "\n",
    "  target_date = first_date\n",
    "  \n",
    "  dates = []\n",
    "  X, Y = [], []\n",
    "\n",
    "  last_time = False\n",
    "  while True:\n",
    "    df_subset = dataframe.loc[:target_date].tail(n+1)\n",
    "    \n",
    "    if len(df_subset) != n+1:\n",
    "      print(f'Error: Window of size {n} is too large for date {target_date}')\n",
    "      return\n",
    "\n",
    "    values = df_subset['Close'].to_numpy()\n",
    "    x, y = values[:-1], values[-1]\n",
    "\n",
    "    dates.append(target_date)\n",
    "    X.append(x)\n",
    "    Y.append(y)\n",
    "\n",
    "    next_week = dataframe.loc[target_date:target_date+datetime.timedelta(days=7)]\n",
    "    next_datetime_str = str(next_week.head(2).tail(1).index.values[0])\n",
    "    next_date_str = next_datetime_str.split('T')[0]\n",
    "    year_month_day = next_date_str.split('-')\n",
    "    year, month, day = year_month_day\n",
    "    next_date = datetime.datetime(day=int(day), month=int(month), year=int(year))\n",
    "    \n",
    "    if last_time:\n",
    "      break\n",
    "    \n",
    "    target_date = next_date\n",
    "\n",
    "    if target_date == last_date:\n",
    "      last_time = True\n",
    "    \n",
    "  ret_df = pd.DataFrame({})\n",
    "  ret_df['Target Date'] = dates\n",
    "  \n",
    "  X = np.array(X)\n",
    "  for i in range(0, n):\n",
    "    X[:, i]\n",
    "    ret_df[f'Target-{n-i}'] = X[:, i]\n",
    "  \n",
    "  ret_df['Target'] = Y\n",
    "\n",
    "  return ret_df\n",
    "\n",
    "windowed_df = df_to_windowed_df(df, \n",
    "                                dt, \n",
    "                                curr, \n",
    "                                n=3)\n",
    "windowed_df"
   ]
  },
  {
   "cell_type": "code",
   "execution_count": 27,
   "metadata": {},
   "outputs": [
    {
     "data": {
      "text/plain": [
       "((264,), (264, 3), (264,))"
      ]
     },
     "execution_count": 27,
     "metadata": {},
     "output_type": "execute_result"
    }
   ],
   "source": [
    "def windowed_df_to_date_X_y(windowed_dataframe):\n",
    "  df_as_np = windowed_dataframe.to_numpy()\n",
    "\n",
    "  dates = df_as_np[:, 0]\n",
    "\n",
    "  middle_matrix = df_as_np[:, 1:-1]\n",
    "  X = middle_matrix.reshape((len(dates), middle_matrix.shape[1]))\n",
    "\n",
    "  Y = df_as_np[:, -1]\n",
    "\n",
    "  return dates, X.astype(np.float32), Y.astype(np.float32)\n",
    "\n",
    "dates, X, y = windowed_df_to_date_X_y(windowed_df)\n",
    "\n",
    "dates.shape, X.shape, y.shape"
   ]
  },
  {
   "cell_type": "code",
   "execution_count": 28,
   "metadata": {},
   "outputs": [
    {
     "data": {
      "text/plain": [
       "<matplotlib.legend.Legend at 0x230ae1d9d90>"
      ]
     },
     "execution_count": 28,
     "metadata": {},
     "output_type": "execute_result"
    },
    {
     "data": {
      "image/png": "[encoded data removed]",
      "text/plain": [
       "<Figure size 640x480 with 1 Axes>"
      ]
     },
     "metadata": {},
     "output_type": "display_data"
    }
   ],
   "source": [
    "q_80 = int(len(dates) * .8)\n",
    "q_90 = int(len(dates) * .9)\n",
    "\n",
    "dates_train, X_train, y_train = dates[:q_80], X[:q_80], y[:q_80]\n",
    "\n",
    "dates_val, X_val, y_val = dates[q_80:q_90], X[q_80:q_90], y[q_80:q_90]\n",
    "dates_test, X_test, y_test = dates[q_90:], X[q_90:], y[q_90:]\n",
    "\n",
    "plt.plot(dates_train, y_train)\n",
    "plt.plot(dates_val, y_val)\n",
    "plt.plot(dates_test, y_test)\n",
    "\n",
    "plt.legend(['Train', 'Validation', 'Test'])"
   ]
  },
  {
   "cell_type": "code",
   "execution_count": 29,
   "metadata": {},
   "outputs": [],
   "source": [
    "import tensorflow as tf\n",
    "from tensorflow import keras\n"
   ]
  },
  {
   "cell_type": "code",
   "execution_count": 52,
   "metadata": {},
   "outputs": [
    {
     "name": "stdout",
     "output_type": "stream",
     "text": [
      "Epoch 1/100\n",
      "7/7 [==============================] - 2s 71ms/step - loss: 13018.0049 - mean_absolute_error: 112.6803 - val_loss: 17711.4688 - val_mean_absolute_error: 132.9031\n",
      "Epoch 2/100\n",
      "7/7 [==============================] - 0s 7ms/step - loss: 12911.7764 - mean_absolute_error: 112.2099 - val_loss: 17550.1777 - val_mean_absolute_error: 132.2949\n",
      "Epoch 3/100\n",
      "7/7 [==============================] - 0s 6ms/step - loss: 12759.2441 - mean_absolute_error: 111.5254 - val_loss: 17333.7148 - val_mean_absolute_error: 131.4743\n",
      "Epoch 4/100\n",
      "7/7 [==============================] - 0s 7ms/step - loss: 12552.5459 - mean_absolute_error: 110.5945 - val_loss: 17049.6094 - val_mean_absolute_error: 130.3894\n",
      "Epoch 5/100\n",
      "7/7 [==============================] - 0s 6ms/step - loss: 12287.5889 - mean_absolute_error: 109.3928 - val_loss: 16690.5234 - val_mean_absolute_error: 129.0049\n",
      "Epoch 6/100\n",
      "7/7 [==============================] - 0s 7ms/step - loss: 11941.9326 - mean_absolute_error: 107.7992 - val_loss: 16197.1309 - val_mean_absolute_error: 127.0781\n",
      "Epoch 7/100\n",
      "7/7 [==============================] - 0s 7ms/step - loss: 11479.1396 - mean_absolute_error: 105.6186 - val_loss: 15567.1914 - val_mean_absolute_error: 124.5750\n",
      "Epoch 8/100\n",
      "7/7 [==============================] - 0s 7ms/step - loss: 10899.3018 - mean_absolute_error: 102.8319 - val_loss: 14800.8535 - val_mean_absolute_error: 121.4582\n",
      "Epoch 9/100\n",
      "7/7 [==============================] - 0s 7ms/step - loss: 10113.7275 - mean_absolute_error: 98.9179 - val_loss: 13655.6035 - val_mean_absolute_error: 116.6447\n",
      "Epoch 10/100\n",
      "7/7 [==============================] - 0s 7ms/step - loss: 8978.2197 - mean_absolute_error: 92.9555 - val_loss: 12057.3145 - val_mean_absolute_error: 109.5769\n",
      "Epoch 11/100\n",
      "7/7 [==============================] - 0s 7ms/step - loss: 7464.8843 - mean_absolute_error: 84.2695 - val_loss: 9875.6992 - val_mean_absolute_error: 99.1108\n",
      "Epoch 12/100\n",
      "7/7 [==============================] - 0s 7ms/step - loss: 5483.2246 - mean_absolute_error: 71.3771 - val_loss: 7048.5884 - val_mean_absolute_error: 83.6399\n",
      "Epoch 13/100\n",
      "7/7 [==============================] - 0s 7ms/step - loss: 3421.4365 - mean_absolute_error: 55.3089 - val_loss: 4519.8081 - val_mean_absolute_error: 66.8454\n",
      "Epoch 14/100\n",
      "7/7 [==============================] - 0s 6ms/step - loss: 1837.1075 - mean_absolute_error: 38.0039 - val_loss: 2381.6704 - val_mean_absolute_error: 48.2615\n",
      "Epoch 15/100\n",
      "7/7 [==============================] - 0s 6ms/step - loss: 751.0361 - mean_absolute_error: 22.1902 - val_loss: 1041.1477 - val_mean_absolute_error: 31.4897\n",
      "Epoch 16/100\n",
      "7/7 [==============================] - 0s 6ms/step - loss: 363.5567 - mean_absolute_error: 16.6362 - val_loss: 435.1066 - val_mean_absolute_error: 19.6571\n",
      "Epoch 17/100\n",
      "7/7 [==============================] - 0s 6ms/step - loss: 332.8700 - mean_absolute_error: 16.6425 - val_loss: 253.2237 - val_mean_absolute_error: 14.3207\n",
      "Epoch 18/100\n",
      "7/7 [==============================] - 0s 6ms/step - loss: 359.8993 - mean_absolute_error: 16.9702 - val_loss: 261.3273 - val_mean_absolute_error: 14.6021\n",
      "Epoch 19/100\n",
      "7/7 [==============================] - 0s 6ms/step - loss: 342.6599 - mean_absolute_error: 16.7769 - val_loss: 344.8257 - val_mean_absolute_error: 17.2257\n",
      "Epoch 20/100\n",
      "7/7 [==============================] - 0s 6ms/step - loss: 322.5650 - mean_absolute_error: 16.4808 - val_loss: 451.1509 - val_mean_absolute_error: 20.0762\n",
      "Epoch 21/100\n",
      "7/7 [==============================] - 0s 6ms/step - loss: 319.2788 - mean_absolute_error: 16.3776 - val_loss: 523.0348 - val_mean_absolute_error: 21.7935\n",
      "Epoch 22/100\n",
      "7/7 [==============================] - 0s 6ms/step - loss: 320.9765 - mean_absolute_error: 16.3365 - val_loss: 534.8984 - val_mean_absolute_error: 22.0675\n",
      "Epoch 23/100\n",
      "7/7 [==============================] - 0s 6ms/step - loss: 319.0774 - mean_absolute_error: 16.3133 - val_loss: 497.3750 - val_mean_absolute_error: 21.2039\n",
      "Epoch 24/100\n",
      "7/7 [==============================] - 0s 6ms/step - loss: 314.6369 - mean_absolute_error: 16.2634 - val_loss: 463.5256 - val_mean_absolute_error: 20.4003\n",
      "Epoch 25/100\n",
      "7/7 [==============================] - 0s 6ms/step - loss: 303.7284 - mean_absolute_error: 15.9527 - val_loss: 469.6813 - val_mean_absolute_error: 20.5918\n",
      "Epoch 26/100\n",
      "7/7 [==============================] - 0s 7ms/step - loss: 287.4306 - mean_absolute_error: 15.5110 - val_loss: 440.4561 - val_mean_absolute_error: 19.9074\n",
      "Epoch 27/100\n",
      "7/7 [==============================] - 0s 10ms/step - loss: 272.0678 - mean_absolute_error: 15.0941 - val_loss: 403.7668 - val_mean_absolute_error: 18.9890\n",
      "Epoch 28/100\n",
      "7/7 [==============================] - 0s 7ms/step - loss: 229.2999 - mean_absolute_error: 13.7080 - val_loss: 384.2721 - val_mean_absolute_error: 18.6051\n",
      "Epoch 29/100\n",
      "7/7 [==============================] - 0s 6ms/step - loss: 184.2081 - mean_absolute_error: 12.2144 - val_loss: 296.7079 - val_mean_absolute_error: 16.1208\n",
      "Epoch 30/100\n",
      "7/7 [==============================] - 0s 6ms/step - loss: 152.6975 - mean_absolute_error: 10.9447 - val_loss: 268.6743 - val_mean_absolute_error: 15.3628\n",
      "Epoch 31/100\n",
      "7/7 [==============================] - 0s 6ms/step - loss: 114.9684 - mean_absolute_error: 9.6390 - val_loss: 221.2722 - val_mean_absolute_error: 13.8611\n",
      "Epoch 32/100\n",
      "7/7 [==============================] - 0s 7ms/step - loss: 85.3633 - mean_absolute_error: 7.7601 - val_loss: 134.4857 - val_mean_absolute_error: 10.3152\n",
      "Epoch 33/100\n",
      "7/7 [==============================] - 0s 6ms/step - loss: 51.4109 - mean_absolute_error: 6.0423 - val_loss: 114.4163 - val_mean_absolute_error: 9.5918\n",
      "Epoch 34/100\n",
      "7/7 [==============================] - 0s 6ms/step - loss: 27.4355 - mean_absolute_error: 4.0281 - val_loss: 49.6889 - val_mean_absolute_error: 5.8581\n",
      "Epoch 35/100\n",
      "7/7 [==============================] - 0s 6ms/step - loss: 15.9877 - mean_absolute_error: 2.9976 - val_loss: 35.7773 - val_mean_absolute_error: 4.8709\n",
      "Epoch 36/100\n",
      "7/7 [==============================] - 0s 6ms/step - loss: 13.8781 - mean_absolute_error: 2.8476 - val_loss: 30.2067 - val_mean_absolute_error: 4.5259\n",
      "Epoch 37/100\n",
      "7/7 [==============================] - 0s 6ms/step - loss: 13.0044 - mean_absolute_error: 2.8046 - val_loss: 30.0623 - val_mean_absolute_error: 4.6285\n",
      "Epoch 38/100\n",
      "7/7 [==============================] - 0s 6ms/step - loss: 8.8924 - mean_absolute_error: 2.2445 - val_loss: 23.2819 - val_mean_absolute_error: 4.0083\n",
      "Epoch 39/100\n",
      "7/7 [==============================] - 0s 6ms/step - loss: 7.8983 - mean_absolute_error: 2.0983 - val_loss: 20.7636 - val_mean_absolute_error: 3.7797\n",
      "Epoch 40/100\n",
      "7/7 [==============================] - 0s 6ms/step - loss: 7.1800 - mean_absolute_error: 2.0048 - val_loss: 21.5400 - val_mean_absolute_error: 3.8928\n",
      "Epoch 41/100\n",
      "7/7 [==============================] - 0s 6ms/step - loss: 8.2716 - mean_absolute_error: 2.1567 - val_loss: 19.1337 - val_mean_absolute_error: 3.6563\n",
      "Epoch 42/100\n",
      "7/7 [==============================] - 0s 6ms/step - loss: 7.1203 - mean_absolute_error: 1.9631 - val_loss: 19.3487 - val_mean_absolute_error: 3.6894\n",
      "Epoch 43/100\n",
      "7/7 [==============================] - 0s 6ms/step - loss: 7.0559 - mean_absolute_error: 1.9934 - val_loss: 17.0583 - val_mean_absolute_error: 3.4150\n",
      "Epoch 44/100\n",
      "7/7 [==============================] - 0s 6ms/step - loss: 7.1267 - mean_absolute_error: 2.0340 - val_loss: 16.5573 - val_mean_absolute_error: 3.3509\n",
      "Epoch 45/100\n",
      "7/7 [==============================] - 0s 6ms/step - loss: 7.4751 - mean_absolute_error: 2.1018 - val_loss: 22.0594 - val_mean_absolute_error: 4.0747\n",
      "Epoch 46/100\n",
      "7/7 [==============================] - 0s 6ms/step - loss: 8.1774 - mean_absolute_error: 2.2259 - val_loss: 18.2803 - val_mean_absolute_error: 3.6068\n",
      "Epoch 47/100\n",
      "7/7 [==============================] - 0s 6ms/step - loss: 7.8425 - mean_absolute_error: 2.1715 - val_loss: 15.6159 - val_mean_absolute_error: 3.2474\n",
      "Epoch 48/100\n",
      "7/7 [==============================] - 0s 6ms/step - loss: 6.6943 - mean_absolute_error: 1.9907 - val_loss: 15.4271 - val_mean_absolute_error: 3.2263\n",
      "Epoch 49/100\n",
      "7/7 [==============================] - 0s 6ms/step - loss: 6.4495 - mean_absolute_error: 1.9392 - val_loss: 17.3148 - val_mean_absolute_error: 3.5172\n",
      "Epoch 50/100\n",
      "7/7 [==============================] - 0s 6ms/step - loss: 6.5887 - mean_absolute_error: 1.9526 - val_loss: 15.8565 - val_mean_absolute_error: 3.3198\n",
      "Epoch 51/100\n",
      "7/7 [==============================] - 0s 6ms/step - loss: 6.2869 - mean_absolute_error: 1.8874 - val_loss: 14.6225 - val_mean_absolute_error: 3.1211\n",
      "Epoch 52/100\n",
      "7/7 [==============================] - 0s 6ms/step - loss: 6.4805 - mean_absolute_error: 1.9531 - val_loss: 14.4477 - val_mean_absolute_error: 3.0989\n",
      "Epoch 53/100\n",
      "7/7 [==============================] - 0s 6ms/step - loss: 6.4725 - mean_absolute_error: 1.9268 - val_loss: 18.4177 - val_mean_absolute_error: 3.6881\n",
      "Epoch 54/100\n",
      "7/7 [==============================] - 0s 6ms/step - loss: 6.9172 - mean_absolute_error: 2.0072 - val_loss: 14.5667 - val_mean_absolute_error: 3.1519\n",
      "Epoch 55/100\n",
      "7/7 [==============================] - 0s 6ms/step - loss: 6.1642 - mean_absolute_error: 1.8752 - val_loss: 14.7302 - val_mean_absolute_error: 3.1841\n",
      "Epoch 56/100\n",
      "7/7 [==============================] - 0s 8ms/step - loss: 6.1848 - mean_absolute_error: 1.8758 - val_loss: 13.7357 - val_mean_absolute_error: 3.0014\n",
      "Epoch 57/100\n",
      "7/7 [==============================] - 0s 6ms/step - loss: 6.2044 - mean_absolute_error: 1.8760 - val_loss: 15.7606 - val_mean_absolute_error: 3.3545\n",
      "Epoch 58/100\n",
      "7/7 [==============================] - 0s 6ms/step - loss: 6.8363 - mean_absolute_error: 1.9718 - val_loss: 19.4467 - val_mean_absolute_error: 3.8346\n",
      "Epoch 59/100\n",
      "7/7 [==============================] - 0s 6ms/step - loss: 7.4856 - mean_absolute_error: 2.1374 - val_loss: 13.7806 - val_mean_absolute_error: 3.0370\n",
      "Epoch 60/100\n",
      "7/7 [==============================] - 0s 6ms/step - loss: 6.5779 - mean_absolute_error: 1.9384 - val_loss: 13.2631 - val_mean_absolute_error: 2.9265\n",
      "Epoch 61/100\n",
      "7/7 [==============================] - 0s 6ms/step - loss: 6.2867 - mean_absolute_error: 1.9243 - val_loss: 13.3904 - val_mean_absolute_error: 2.9646\n",
      "Epoch 62/100\n",
      "7/7 [==============================] - 0s 6ms/step - loss: 6.3919 - mean_absolute_error: 1.9304 - val_loss: 14.7124 - val_mean_absolute_error: 3.2207\n",
      "Epoch 63/100\n",
      "7/7 [==============================] - 0s 6ms/step - loss: 6.0106 - mean_absolute_error: 1.8605 - val_loss: 12.9903 - val_mean_absolute_error: 2.8886\n",
      "Epoch 64/100\n",
      "7/7 [==============================] - 0s 6ms/step - loss: 6.2465 - mean_absolute_error: 1.8913 - val_loss: 15.1873 - val_mean_absolute_error: 3.2878\n",
      "Epoch 65/100\n",
      "7/7 [==============================] - 0s 6ms/step - loss: 6.2085 - mean_absolute_error: 1.8700 - val_loss: 13.0613 - val_mean_absolute_error: 2.9290\n",
      "Epoch 66/100\n",
      "7/7 [==============================] - 0s 6ms/step - loss: 6.1294 - mean_absolute_error: 1.8779 - val_loss: 13.0903 - val_mean_absolute_error: 2.9323\n",
      "Epoch 67/100\n",
      "7/7 [==============================] - 0s 7ms/step - loss: 6.0732 - mean_absolute_error: 1.8577 - val_loss: 16.2778 - val_mean_absolute_error: 3.4534\n",
      "Epoch 68/100\n",
      "7/7 [==============================] - 0s 9ms/step - loss: 6.7374 - mean_absolute_error: 1.9623 - val_loss: 14.3620 - val_mean_absolute_error: 3.1734\n",
      "Epoch 69/100\n",
      "7/7 [==============================] - 0s 6ms/step - loss: 6.4726 - mean_absolute_error: 1.9015 - val_loss: 12.8600 - val_mean_absolute_error: 2.9139\n",
      "Epoch 70/100\n",
      "7/7 [==============================] - 0s 6ms/step - loss: 6.0490 - mean_absolute_error: 1.8321 - val_loss: 13.1030 - val_mean_absolute_error: 2.9700\n",
      "Epoch 71/100\n",
      "7/7 [==============================] - 0s 6ms/step - loss: 5.9213 - mean_absolute_error: 1.8463 - val_loss: 14.0889 - val_mean_absolute_error: 3.1456\n",
      "Epoch 72/100\n",
      "7/7 [==============================] - 0s 6ms/step - loss: 6.0392 - mean_absolute_error: 1.8488 - val_loss: 12.2149 - val_mean_absolute_error: 2.7588\n",
      "Epoch 73/100\n",
      "7/7 [==============================] - 0s 6ms/step - loss: 6.0788 - mean_absolute_error: 1.8731 - val_loss: 13.5934 - val_mean_absolute_error: 3.0715\n",
      "Epoch 74/100\n",
      "7/7 [==============================] - 0s 6ms/step - loss: 5.9509 - mean_absolute_error: 1.8530 - val_loss: 12.1385 - val_mean_absolute_error: 2.7456\n",
      "Epoch 75/100\n",
      "7/7 [==============================] - 0s 6ms/step - loss: 6.2511 - mean_absolute_error: 1.9024 - val_loss: 12.1001 - val_mean_absolute_error: 2.7444\n",
      "Epoch 76/100\n",
      "7/7 [==============================] - 0s 6ms/step - loss: 6.3642 - mean_absolute_error: 1.9539 - val_loss: 12.7241 - val_mean_absolute_error: 2.9148\n",
      "Epoch 77/100\n",
      "7/7 [==============================] - 0s 8ms/step - loss: 6.5956 - mean_absolute_error: 1.9524 - val_loss: 13.0478 - val_mean_absolute_error: 2.9842\n",
      "Epoch 78/100\n",
      "7/7 [==============================] - 0s 6ms/step - loss: 6.5040 - mean_absolute_error: 1.9293 - val_loss: 14.2495 - val_mean_absolute_error: 3.1680\n",
      "Epoch 79/100\n",
      "7/7 [==============================] - 0s 6ms/step - loss: 6.4220 - mean_absolute_error: 1.9436 - val_loss: 13.4136 - val_mean_absolute_error: 3.0430\n",
      "Epoch 80/100\n",
      "7/7 [==============================] - 0s 6ms/step - loss: 6.1553 - mean_absolute_error: 1.8842 - val_loss: 12.1582 - val_mean_absolute_error: 2.8023\n",
      "Epoch 81/100\n",
      "7/7 [==============================] - 0s 6ms/step - loss: 6.2212 - mean_absolute_error: 1.9038 - val_loss: 11.8132 - val_mean_absolute_error: 2.6897\n",
      "Epoch 82/100\n",
      "7/7 [==============================] - 0s 6ms/step - loss: 5.9327 - mean_absolute_error: 1.8295 - val_loss: 12.0532 - val_mean_absolute_error: 2.7769\n",
      "Epoch 83/100\n",
      "7/7 [==============================] - 0s 6ms/step - loss: 6.2324 - mean_absolute_error: 1.8802 - val_loss: 12.4419 - val_mean_absolute_error: 2.6604\n",
      "Epoch 84/100\n",
      "7/7 [==============================] - 0s 6ms/step - loss: 8.0029 - mean_absolute_error: 2.1846 - val_loss: 14.7762 - val_mean_absolute_error: 3.2491\n",
      "Epoch 85/100\n",
      "7/7 [==============================] - 0s 6ms/step - loss: 6.4081 - mean_absolute_error: 1.9309 - val_loss: 12.5875 - val_mean_absolute_error: 2.9043\n",
      "Epoch 86/100\n",
      "7/7 [==============================] - 0s 6ms/step - loss: 6.3137 - mean_absolute_error: 1.9076 - val_loss: 11.6427 - val_mean_absolute_error: 2.6394\n",
      "Epoch 87/100\n",
      "7/7 [==============================] - 0s 6ms/step - loss: 6.1363 - mean_absolute_error: 1.8399 - val_loss: 12.2661 - val_mean_absolute_error: 2.8444\n",
      "Epoch 88/100\n",
      "7/7 [==============================] - 0s 6ms/step - loss: 6.2653 - mean_absolute_error: 1.8732 - val_loss: 12.3189 - val_mean_absolute_error: 2.8604\n",
      "Epoch 89/100\n",
      "7/7 [==============================] - 0s 6ms/step - loss: 6.1907 - mean_absolute_error: 1.8870 - val_loss: 15.0403 - val_mean_absolute_error: 3.2968\n",
      "Epoch 90/100\n",
      "7/7 [==============================] - 0s 6ms/step - loss: 6.6587 - mean_absolute_error: 1.9637 - val_loss: 11.6116 - val_mean_absolute_error: 2.6733\n",
      "Epoch 91/100\n",
      "7/7 [==============================] - 0s 6ms/step - loss: 5.8793 - mean_absolute_error: 1.8347 - val_loss: 11.5094 - val_mean_absolute_error: 2.6280\n",
      "Epoch 92/100\n",
      "7/7 [==============================] - 0s 6ms/step - loss: 6.1684 - mean_absolute_error: 1.8740 - val_loss: 11.6917 - val_mean_absolute_error: 2.7058\n",
      "Epoch 93/100\n",
      "7/7 [==============================] - 0s 6ms/step - loss: 5.9259 - mean_absolute_error: 1.8267 - val_loss: 11.5765 - val_mean_absolute_error: 2.6648\n",
      "Epoch 94/100\n",
      "7/7 [==============================] - 0s 6ms/step - loss: 5.8528 - mean_absolute_error: 1.8374 - val_loss: 11.6320 - val_mean_absolute_error: 2.6984\n",
      "Epoch 95/100\n",
      "7/7 [==============================] - 0s 6ms/step - loss: 6.2452 - mean_absolute_error: 1.8820 - val_loss: 11.5552 - val_mean_absolute_error: 2.6727\n",
      "Epoch 96/100\n",
      "7/7 [==============================] - 0s 6ms/step - loss: 6.0240 - mean_absolute_error: 1.8583 - val_loss: 16.6933 - val_mean_absolute_error: 3.5298\n",
      "Epoch 97/100\n",
      "7/7 [==============================] - 0s 6ms/step - loss: 6.3890 - mean_absolute_error: 1.8770 - val_loss: 11.4339 - val_mean_absolute_error: 2.6405\n",
      "Epoch 98/100\n",
      "7/7 [==============================] - 0s 6ms/step - loss: 5.9510 - mean_absolute_error: 1.8309 - val_loss: 11.5812 - val_mean_absolute_error: 2.6936\n",
      "Epoch 99/100\n",
      "7/7 [==============================] - 0s 6ms/step - loss: 5.8575 - mean_absolute_error: 1.8129 - val_loss: 11.8541 - val_mean_absolute_error: 2.7718\n",
      "Epoch 100/100\n",
      "7/7 [==============================] - 0s 6ms/step - loss: 5.9122 - mean_absolute_error: 1.8539 - val_loss: 14.1135 - val_mean_absolute_error: 3.1607\n"
     ]
    },
    {
     "data": {
      "text/plain": [
       "<keras.src.callbacks.History at 0x230c90fcd10>"
      ]
     },
     "execution_count": 52,
     "metadata": {},
     "output_type": "execute_result"
    }
   ],
   "source": [
    "model = keras.Sequential([keras.layers.Input((3, 1)),\n",
    "                    tf.keras.layers.Bidirectional(keras.layers.LSTM(64)),\n",
    "                    keras.layers.Dense(32, activation='relu'),\n",
    "                    keras.layers.Dense(32, activation='relu'),\n",
    "                    keras.layers.Dense(1)])\n",
    "\n",
    "model.compile(loss='mse', \n",
    "              optimizer=tf.keras.optimizers.Adam(learning_rate=0.001),\n",
    "              metrics=['mean_absolute_error'])\n",
    "\n",
    "model.fit(X_train, y_train, validation_data=(X_val, y_val), epochs=100)"
   ]
  },
  {
   "cell_type": "code",
   "execution_count": 53,
   "metadata": {},
   "outputs": [
    {
     "name": "stdout",
     "output_type": "stream",
     "text": [
      "7/7 [==============================] - 0s 1ms/step\n"
     ]
    },
    {
     "data": {
      "text/plain": [
       "<matplotlib.legend.Legend at 0x230c90cca50>"
      ]
     },
     "execution_count": 53,
     "metadata": {},
     "output_type": "execute_result"
    },
    {
     "data": {
      "image/png": "[encoded data removed]",
      "text/plain": [
       "<Figure size 640x480 with 1 Axes>"
      ]
     },
     "metadata": {},
     "output_type": "display_data"
    }
   ],
   "source": [
    "train_predictions = model.predict(X_train).flatten()\n",
    "\n",
    "plt.plot(dates_train, train_predictions)\n",
    "plt.plot(dates_train, y_train)\n",
    "plt.legend(['Training Predictions', 'Training Observations'])"
   ]
  },
  {
   "cell_type": "code",
   "execution_count": 54,
   "metadata": {},
   "outputs": [
    {
     "name": "stdout",
     "output_type": "stream",
     "text": [
      "1/1 [==============================] - 0s 18ms/step\n"
     ]
    },
    {
     "data": {
      "text/plain": [
       "<matplotlib.legend.Legend at 0x230c902fad0>"
      ]
     },
     "execution_count": 54,
     "metadata": {},
     "output_type": "execute_result"
    },
    {
     "data": {
      "image/png": "[encoded data removed]",
      "text/plain": [
       "<Figure size 640x480 with 1 Axes>"
      ]
     },
     "metadata": {},
     "output_type": "display_data"
    }
   ],
   "source": [
    "val_predictions = model.predict(X_val).flatten()\n",
    "\n",
    "plt.plot(dates_val, val_predictions)\n",
    "plt.plot(dates_val, y_val)\n",
    "plt.legend(['Validation Predictions', 'Validation Observations'])"
   ]
  },
  {
   "cell_type": "code",
   "execution_count": 55,
   "metadata": {},
   "outputs": [
    {
     "name": "stdout",
     "output_type": "stream",
     "text": [
      "1/1 [==============================] - 0s 19ms/step\n"
     ]
    },
    {
     "data": {
      "text/plain": [
       "<matplotlib.legend.Legend at 0x230cde5dad0>"
      ]
     },
     "execution_count": 55,
     "metadata": {},
     "output_type": "execute_result"
    },
    {
     "data": {
      "image/png": "[encoded data removed]",
      "text/plain": [
       "<Figure size 640x480 with 1 Axes>"
      ]
     },
     "metadata": {},
     "output_type": "display_data"
    }
   ],
   "source": [
    "test_predictions = model.predict(X_test).flatten()\n",
    "\n",
    "plt.plot(dates_test, test_predictions)\n",
    "plt.plot(dates_test, y_test)\n",
    "plt.legend(['Testing Predictions', 'Testing Observations'])"
   ]
  },
  {
   "cell_type": "code",
   "execution_count": 56,
   "metadata": {},
   "outputs": [
    {
     "data": {
      "text/plain": [
       "array([Timestamp('2023-11-15 00:00:00'), Timestamp('2023-11-16 00:00:00'),\n",
       "       Timestamp('2023-11-17 00:00:00'), Timestamp('2023-11-20 00:00:00'),\n",
       "       Timestamp('2023-11-21 00:00:00'), Timestamp('2023-11-22 00:00:00'),\n",
       "       Timestamp('2023-11-24 00:00:00'), Timestamp('2023-11-27 00:00:00'),\n",
       "       Timestamp('2023-11-28 00:00:00'), Timestamp('2023-11-29 00:00:00'),\n",
       "       Timestamp('2023-11-30 00:00:00'), Timestamp('2023-12-01 00:00:00'),\n",
       "       Timestamp('2023-12-04 00:00:00'), Timestamp('2023-12-05 00:00:00'),\n",
       "       Timestamp('2023-12-06 00:00:00'), Timestamp('2023-12-07 00:00:00'),\n",
       "       Timestamp('2023-12-08 00:00:00'), Timestamp('2023-12-11 00:00:00'),\n",
       "       Timestamp('2023-12-12 00:00:00'), Timestamp('2023-12-13 00:00:00'),\n",
       "       Timestamp('2023-12-14 00:00:00'), Timestamp('2023-12-15 00:00:00'),\n",
       "       Timestamp('2023-12-18 00:00:00'), Timestamp('2023-12-19 00:00:00'),\n",
       "       Timestamp('2023-12-20 00:00:00'), Timestamp('2023-12-21 00:00:00'),\n",
       "       Timestamp('2023-12-22 00:00:00')], dtype=object)"
      ]
     },
     "execution_count": 56,
     "metadata": {},
     "output_type": "execute_result"
    }
   ],
   "source": [
    "dates_test"
   ]
  },
  {
   "cell_type": "code",
   "execution_count": 57,
   "metadata": {},
   "outputs": [
    {
     "data": {
      "text/plain": [
       "array([141.03665, 140.01114, 139.63669, 140.79047, 141.30658, 140.37271,\n",
       "       141.45789, 141.6079 , 141.9627 , 141.74834, 141.44562, 141.32608,\n",
       "       141.6813 , 140.84515, 141.5651 , 140.70383, 141.55045, 141.86482,\n",
       "       141.2952 , 141.83435, 142.37381, 141.93106, 142.71973, 143.86551,\n",
       "       143.89383, 143.48824, 143.85649], dtype=float32)"
      ]
     },
     "execution_count": 57,
     "metadata": {},
     "output_type": "execute_result"
    }
   ],
   "source": [
    "test_predictions"
   ]
  },
  {
   "cell_type": "code",
   "execution_count": 58,
   "metadata": {},
   "outputs": [
    {
     "data": {
      "text/html": [
       "<div>\n",
       "<style scoped>\n",
       "    .dataframe tbody tr th:only-of-type {\n",
       "        vertical-align: middle;\n",
       "    }\n",
       "\n",
       "    .dataframe tbody tr th {\n",
       "        vertical-align: top;\n",
       "    }\n",
       "\n",
       "    .dataframe thead th {\n",
       "        text-align: right;\n",
       "    }\n",
       "</style>\n",
       "<table border=\"1\" class=\"dataframe\">\n",
       "  <thead>\n",
       "    <tr style=\"text-align: right;\">\n",
       "      <th></th>\n",
       "      <th>Close</th>\n",
       "    </tr>\n",
       "    <tr>\n",
       "      <th>Date</th>\n",
       "      <th></th>\n",
       "    </tr>\n",
       "  </thead>\n",
       "  <tbody>\n",
       "    <tr>\n",
       "      <th>2022-12-01</th>\n",
       "      <td>95.500000</td>\n",
       "    </tr>\n",
       "    <tr>\n",
       "      <th>2022-12-02</th>\n",
       "      <td>94.129997</td>\n",
       "    </tr>\n",
       "    <tr>\n",
       "      <th>2022-12-05</th>\n",
       "      <td>91.010002</td>\n",
       "    </tr>\n",
       "    <tr>\n",
       "      <th>2022-12-06</th>\n",
       "      <td>88.250000</td>\n",
       "    </tr>\n",
       "    <tr>\n",
       "      <th>2022-12-07</th>\n",
       "      <td>88.459999</td>\n",
       "    </tr>\n",
       "    <tr>\n",
       "      <th>...</th>\n",
       "      <td>...</td>\n",
       "    </tr>\n",
       "    <tr>\n",
       "      <th>2023-12-18</th>\n",
       "      <td>154.070007</td>\n",
       "    </tr>\n",
       "    <tr>\n",
       "      <th>2023-12-19</th>\n",
       "      <td>153.789993</td>\n",
       "    </tr>\n",
       "    <tr>\n",
       "      <th>2023-12-20</th>\n",
       "      <td>152.119995</td>\n",
       "    </tr>\n",
       "    <tr>\n",
       "      <th>2023-12-21</th>\n",
       "      <td>153.839996</td>\n",
       "    </tr>\n",
       "    <tr>\n",
       "      <th>2023-12-22</th>\n",
       "      <td>153.419998</td>\n",
       "    </tr>\n",
       "  </tbody>\n",
       "</table>\n",
       "<p>267 rows × 1 columns</p>\n",
       "</div>"
      ],
      "text/plain": [
       "                 Close\n",
       "Date                  \n",
       "2022-12-01   95.500000\n",
       "2022-12-02   94.129997\n",
       "2022-12-05   91.010002\n",
       "2022-12-06   88.250000\n",
       "2022-12-07   88.459999\n",
       "...                ...\n",
       "2023-12-18  154.070007\n",
       "2023-12-19  153.789993\n",
       "2023-12-20  152.119995\n",
       "2023-12-21  153.839996\n",
       "2023-12-22  153.419998\n",
       "\n",
       "[267 rows x 1 columns]"
      ]
     },
     "execution_count": 58,
     "metadata": {},
     "output_type": "execute_result"
    }
   ],
   "source": [
    "df"
   ]
  },
  {
   "cell_type": "code",
   "execution_count": 59,
   "metadata": {},
   "outputs": [
    {
     "data": {
      "text/plain": [
       "261    152.119995\n",
       "262    153.839996\n",
       "263    153.419998\n",
       "Name: Target, dtype: float64"
      ]
     },
     "execution_count": 59,
     "metadata": {},
     "output_type": "execute_result"
    }
   ],
   "source": [
    "req = windowed_df.tail(3)\n",
    "req['Target']"
   ]
  },
  {
   "cell_type": "code",
   "execution_count": 60,
   "metadata": {},
   "outputs": [],
   "source": [
    "inp = tuple(req['Target'])"
   ]
  },
  {
   "cell_type": "code",
   "execution_count": 61,
   "metadata": {},
   "outputs": [
    {
     "data": {
      "text/plain": [
       "(152.119995, 153.839996, 153.419998)"
      ]
     },
     "execution_count": 61,
     "metadata": {},
     "output_type": "execute_result"
    }
   ],
   "source": [
    "inp"
   ]
  },
  {
   "cell_type": "code",
   "execution_count": 62,
   "metadata": {},
   "outputs": [
    {
     "name": "stdout",
     "output_type": "stream",
     "text": [
      "1/1 [==============================] - 0s 21ms/step\n"
     ]
    }
   ],
   "source": [
    "npin = np.asarray(inp)\n",
    "rs = npin.reshape(1, -1)\n",
    "stk_pred = model.predict(rs)"
   ]
  },
  {
   "cell_type": "code",
   "execution_count": 63,
   "metadata": {},
   "outputs": [
    {
     "data": {
      "text/plain": [
       "array([[143.80319]], dtype=float32)"
      ]
     },
     "execution_count": 63,
     "metadata": {},
     "output_type": "execute_result"
    }
   ],
   "source": [
    "stk_pred"
   ]
  },
  {
   "cell_type": "code",
   "execution_count": 64,
   "metadata": {},
   "outputs": [],
   "source": [
    "today = float(stk_pred)"
   ]
  },
  {
   "cell_type": "code",
   "execution_count": 65,
   "metadata": {},
   "outputs": [
    {
     "data": {
      "text/plain": [
       "143.80319213867188"
      ]
     },
     "execution_count": 65,
     "metadata": {},
     "output_type": "execute_result"
    }
   ],
   "source": [
    "today"
   ]
  },
  {
   "cell_type": "code",
   "execution_count": 66,
   "metadata": {},
   "outputs": [],
   "source": [
    "req1 = windowed_df.tail(2)\n",
    "tom = list(req1['Target'])"
   ]
  },
  {
   "cell_type": "code",
   "execution_count": 67,
   "metadata": {},
   "outputs": [],
   "source": [
    "tom = tom + [today,]"
   ]
  },
  {
   "cell_type": "code",
   "execution_count": 68,
   "metadata": {},
   "outputs": [
    {
     "data": {
      "text/plain": [
       "[153.839996, 153.419998, 143.80319213867188]"
      ]
     },
     "execution_count": 68,
     "metadata": {},
     "output_type": "execute_result"
    }
   ],
   "source": [
    "tom"
   ]
  },
  {
   "cell_type": "code",
   "execution_count": 69,
   "metadata": {},
   "outputs": [],
   "source": [
    "tom1 = tuple(tom)"
   ]
  },
  {
   "cell_type": "code",
   "execution_count": 70,
   "metadata": {},
   "outputs": [
    {
     "data": {
      "text/plain": [
       "(153.839996, 153.419998, 143.80319213867188)"
      ]
     },
     "execution_count": 70,
     "metadata": {},
     "output_type": "execute_result"
    }
   ],
   "source": [
    "tom1"
   ]
  },
  {
   "cell_type": "code",
   "execution_count": 71,
   "metadata": {},
   "outputs": [
    {
     "name": "stdout",
     "output_type": "stream",
     "text": [
      "1/1 [==============================] - 0s 19ms/step\n"
     ]
    }
   ],
   "source": [
    "npin = np.asarray(tom1)\n",
    "rs = npin.reshape(1, -1)\n",
    "tom_pred = model.predict(rs)"
   ]
  },
  {
   "cell_type": "code",
   "execution_count": 72,
   "metadata": {},
   "outputs": [
    {
     "data": {
      "text/plain": [
       "array([[140.61438]], dtype=float32)"
      ]
     },
     "execution_count": 72,
     "metadata": {},
     "output_type": "execute_result"
    }
   ],
   "source": [
    "tom_pred"
   ]
  }
 ],
 "metadata": {
  "kernelspec": {
   "display_name": "Python 3",
   "language": "python",
   "name": "python3"
  },
  "language_info": {
   "codemirror_mode": {
    "name": "ipython",
    "version": 3
   },
   "file_extension": ".py",
   "mimetype": "text/x-python",
   "name": "python",
   "nbconvert_exporter": "python",
   "pygments_lexer": "ipython3",
   "version": "3.11.0"
  },
  "orig_nbformat": 4
 },
 "nbformat": 4,
 "nbformat_minor": 2
}
